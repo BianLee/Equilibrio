{
 "cells": [
  {
   "cell_type": "code",
   "execution_count": null,
   "id": "e230b119-9808-40d9-a699-b8e98fe27c3c",
   "metadata": {},
   "outputs": [],
   "source": [
    "import tensorflow as tf\n",
    "from tfjs_models import posenet\n",
    "\n",
    "image_paths = \"./yoga_poses/train/chairgirl1_chair070.jpg\"\n",
    "\n",
    "def load_and_preprocess_image(image_path):\n",
    "    img = tf.io.read_file(image_path)\n",
    "    img = tf.image.decode_jpeg(img, channels=3)\n",
    "    img = tf.image.resize(img, [224, 224])  # Resize to the input size required by PoseNet\n",
    "    img = tf.cast(img, tf.float32) / 255.0  # Normalize pixel values\n",
    "    return img\n",
    "\n",
    "# Assuming 'image_paths' is a list of file paths to your images\n",
    "dataset = tf.data.Dataset.from_tensor_slices(image_paths)\n",
    "dataset = dataset.map(load_and_preprocess_image)\n",
    "\n",
    "dataset = tf.data.Dataset.from_tensor_slices(image_paths)\n",
    "dataset = dataset.map(load_and_preprocess_image)\n",
    "\n",
    "# Dummy example for extracting features using a loaded PoseNet model\n",
    "poses = []\n",
    "for image in dataset:\n",
    "    pose = posenet.estimate_single_pose(image)  # This function needs to be defined or adapted\n",
    "    poses.append(pose)\n",
    "\n",
    "print(poses)"
   ]
  }
 ],
 "metadata": {
  "kernelspec": {
   "display_name": "Python 3 (ipykernel)",
   "language": "python",
   "name": "python3"
  },
  "language_info": {
   "codemirror_mode": {
    "name": "ipython",
    "version": 3
   },
   "file_extension": ".py",
   "mimetype": "text/x-python",
   "name": "python",
   "nbconvert_exporter": "python",
   "pygments_lexer": "ipython3",
   "version": "3.11.6"
  }
 },
 "nbformat": 4,
 "nbformat_minor": 5
}
